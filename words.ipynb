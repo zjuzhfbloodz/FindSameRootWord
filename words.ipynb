{
 "cells": [
  {
   "cell_type": "code",
   "execution_count": 2,
   "metadata": {},
   "outputs": [],
   "source": [
    "import requests\n",
    "from bs4 import BeautifulSoup\n",
    "import os"
   ]
  },
  {
   "cell_type": "code",
   "execution_count": 28,
   "metadata": {},
   "outputs": [
    {
     "output_type": "stream",
     "name": "stdout",
     "text": "抱歉，这个单词目前没有找到词根！\n"
    }
   ],
   "source": [
    "class WordRoot:\n",
    "\n",
    "    def __init__(self,word):\n",
    "        self.path = 'D:\\Markdown\\words.md'\n",
    "        self.word = word\n",
    "        self.base_url = 'http://www.cgdict.com/index.php?app=cigen&ac=word&w={}'.format(word)\n",
    "        self.root_url = ''\n",
    "        self.word_root = ''\n",
    "        self.sim_words = []\n",
    "        self.get_root_url()\n",
    "        self.get_similar_words()\n",
    "    \n",
    "    def get_root_url(self,):\n",
    "        html = requests.get(url=self.base_url).content\n",
    "        soup = BeautifulSoup(html, 'lxml')\n",
    "        try: soup.find('ul',{'class':'titles'}).find('h3').find('a')['href']\n",
    "        except: return\n",
    "        self.root_url = soup.find('ul',{'class':'titles'}).find('h3').find('a')['href']\n",
    "        self.word_root = soup.find('ul',{'class':'titles'}).find('h3').find('a').text[3:]\n",
    "\n",
    "    def get_similar_words(self,):\n",
    "        if self.root_url == '': return\n",
    "        html = requests.get(url=self.root_url).content\n",
    "        soup = BeautifulSoup(html,'lxml')\n",
    "        sim_words = soup.find('div',{'class':'wdef'}).find_all('li')[1:]\n",
    "        for i in range(len(sim_words)):\n",
    "            self.sim_words.append(sim_words[i].text.replace('\\t','').replace('\\n','').replace('\\xa0',''))\n",
    "\n",
    "    def get_mk(self,):\n",
    "        if self.root_url == '':\n",
    "            print(\"抱歉，这个单词目前没有找到词根！\")\n",
    "            return\n",
    "        words_meanings = []\n",
    "        for i in self.sim_words:\n",
    "            words_meanings.append((i.split(' ')[0],i.split(' ')[2]))\n",
    "        title = '\\n### {}\\n|单词|释义|\\n|:---:|:---:|\\n'.format(self.word_root)\n",
    "        with open(self.path,'a+') as f:\n",
    "            f.write(title)\n",
    "            for i in words_meanings:\n",
    "                f.write('|{}|{}|\\n'.format(i[0],i[1]))\n",
    "\n",
    "if __name__ == '__main__':\n",
    "    wr = WordRoot('derelict')\n",
    "    wr.get_mk()"
   ]
  },
  {
   "cell_type": "code",
   "execution_count": 25,
   "metadata": {},
   "outputs": [],
   "source": [
    "def f():\n",
    "    base_url = 'http://www.cgdict.com/index.php?app=cigen&ac=word&w=derelict'\n",
    "    html = requests.get(url=base_url).content\n",
    "    soup = BeautifulSoup(html, 'lxml')\n",
    "    try: soup.find('ul',{'class':'titles'}).find('h3').find('a')['href']\n",
    "    except AttributeError:\n",
    "        print(1)\n",
    "        return\n",
    "    else:\n",
    "        print(2)\n",
    "        root_url = soup.find('ul',{'class':'titles'}).find('h3').find('a')['href']\n",
    "        word_root = soup.find('ul',{'class':'titles'}).find('h3').find('a').text[3:]"
   ]
  },
  {
   "cell_type": "code",
   "execution_count": 26,
   "metadata": {},
   "outputs": [
    {
     "output_type": "stream",
     "name": "stdout",
     "text": "1\n"
    }
   ],
   "source": [
    "f()"
   ]
  },
  {
   "cell_type": "code",
   "execution_count": null,
   "metadata": {},
   "outputs": [],
   "source": []
  }
 ],
 "metadata": {
  "language_info": {
   "codemirror_mode": {
    "name": "ipython",
    "version": 3
   },
   "file_extension": ".py",
   "mimetype": "text/x-python",
   "name": "python",
   "nbconvert_exporter": "python",
   "pygments_lexer": "ipython3",
   "version": "3.7.4-final"
  },
  "orig_nbformat": 2,
  "kernelspec": {
   "name": "python3",
   "display_name": "Python 3"
  }
 },
 "nbformat": 4,
 "nbformat_minor": 2
}